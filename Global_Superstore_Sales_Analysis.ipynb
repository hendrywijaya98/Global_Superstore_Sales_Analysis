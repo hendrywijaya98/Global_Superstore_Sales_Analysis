{
  "nbformat": 4,
  "nbformat_minor": 0,
  "metadata": {
    "colab": {
      "name": "AHM Data Analyst Tech Test.ipynb",
      "provenance": [],
      "collapsed_sections": []
    },
    "kernelspec": {
      "name": "python3",
      "display_name": "Python 3"
    },
    "language_info": {
      "name": "python"
    }
  },
  "cells": [
    {
      "cell_type": "code",
      "metadata": {
        "id": "JbbToaVIKghh"
      },
      "source": [
        "import pandas as pd\n",
        "import numpy as np\n",
        "import matplotlib.pyplot as plt\n",
        "import seaborn as sns"
      ],
      "execution_count": null,
      "outputs": []
    },
    {
      "cell_type": "markdown",
      "metadata": {
        "id": "m_2l4c7AUPPS"
      },
      "source": [
        "# Data Collection"
      ]
    },
    {
      "cell_type": "code",
      "metadata": {
        "id": "-ekrDEdSKt7x"
      },
      "source": [
        "df_superstore = pd.read_excel('Dataset Global Superstore.xlsx')"
      ],
      "execution_count": null,
      "outputs": []
    },
    {
      "cell_type": "code",
      "metadata": {
        "colab": {
          "base_uri": "https://localhost:8080/",
          "height": 1000
        },
        "id": "KrIAlZ61eHRS",
        "outputId": "68f83eb4-456e-4c0c-ded1-0696437ad0d1"
      },
      "source": [
        "df_superstore"
      ],
      "execution_count": null,
      "outputs": [
        {
          "output_type": "execute_result",
          "data": {
            "text/html": [
              "<div>\n",
              "<style scoped>\n",
              "    .dataframe tbody tr th:only-of-type {\n",
              "        vertical-align: middle;\n",
              "    }\n",
              "\n",
              "    .dataframe tbody tr th {\n",
              "        vertical-align: top;\n",
              "    }\n",
              "\n",
              "    .dataframe thead th {\n",
              "        text-align: right;\n",
              "    }\n",
              "</style>\n",
              "<table border=\"1\" class=\"dataframe\">\n",
              "  <thead>\n",
              "    <tr style=\"text-align: right;\">\n",
              "      <th></th>\n",
              "      <th>Row ID</th>\n",
              "      <th>Order ID</th>\n",
              "      <th>Order Date</th>\n",
              "      <th>Ship Date</th>\n",
              "      <th>Ship Mode</th>\n",
              "      <th>Customer ID</th>\n",
              "      <th>Customer Name</th>\n",
              "      <th>Segment</th>\n",
              "      <th>City</th>\n",
              "      <th>State</th>\n",
              "      <th>Country</th>\n",
              "      <th>Postal Code</th>\n",
              "      <th>Market</th>\n",
              "      <th>Region</th>\n",
              "      <th>Product ID</th>\n",
              "      <th>Category</th>\n",
              "      <th>Sub-Category</th>\n",
              "      <th>Product Name</th>\n",
              "      <th>Sales</th>\n",
              "      <th>Quantity</th>\n",
              "      <th>Discount</th>\n",
              "      <th>Profit</th>\n",
              "      <th>Shipping Cost</th>\n",
              "      <th>Order Priority</th>\n",
              "    </tr>\n",
              "  </thead>\n",
              "  <tbody>\n",
              "    <tr>\n",
              "      <th>0</th>\n",
              "      <td>32298</td>\n",
              "      <td>CA-2012-124891</td>\n",
              "      <td>2012-07-31</td>\n",
              "      <td>2012-07-31</td>\n",
              "      <td>Same Day</td>\n",
              "      <td>RH-19495</td>\n",
              "      <td>Rick Hansen</td>\n",
              "      <td>Consumer</td>\n",
              "      <td>New York City</td>\n",
              "      <td>New York</td>\n",
              "      <td>United States</td>\n",
              "      <td>10024.0</td>\n",
              "      <td>US</td>\n",
              "      <td>East</td>\n",
              "      <td>TEC-AC-10003033</td>\n",
              "      <td>Technology</td>\n",
              "      <td>Accessories</td>\n",
              "      <td>Plantronics CS510 - Over-the-Head monaural Wir...</td>\n",
              "      <td>2309.650</td>\n",
              "      <td>7</td>\n",
              "      <td>0.0</td>\n",
              "      <td>762.1845</td>\n",
              "      <td>933.570</td>\n",
              "      <td>Critical</td>\n",
              "    </tr>\n",
              "    <tr>\n",
              "      <th>1</th>\n",
              "      <td>26341</td>\n",
              "      <td>IN-2013-77878</td>\n",
              "      <td>2013-02-05</td>\n",
              "      <td>2013-02-07</td>\n",
              "      <td>Second Class</td>\n",
              "      <td>JR-16210</td>\n",
              "      <td>Justin Ritter</td>\n",
              "      <td>Corporate</td>\n",
              "      <td>Wollongong</td>\n",
              "      <td>New South Wales</td>\n",
              "      <td>Australia</td>\n",
              "      <td>NaN</td>\n",
              "      <td>APAC</td>\n",
              "      <td>Oceania</td>\n",
              "      <td>FUR-CH-10003950</td>\n",
              "      <td>Furniture</td>\n",
              "      <td>Chairs</td>\n",
              "      <td>Novimex Executive Leather Armchair, Black</td>\n",
              "      <td>3709.395</td>\n",
              "      <td>9</td>\n",
              "      <td>0.1</td>\n",
              "      <td>-288.7650</td>\n",
              "      <td>923.630</td>\n",
              "      <td>Critical</td>\n",
              "    </tr>\n",
              "    <tr>\n",
              "      <th>2</th>\n",
              "      <td>25330</td>\n",
              "      <td>IN-2013-71249</td>\n",
              "      <td>2013-10-17</td>\n",
              "      <td>2013-10-18</td>\n",
              "      <td>First Class</td>\n",
              "      <td>CR-12730</td>\n",
              "      <td>Craig Reiter</td>\n",
              "      <td>Consumer</td>\n",
              "      <td>Brisbane</td>\n",
              "      <td>Queensland</td>\n",
              "      <td>Australia</td>\n",
              "      <td>NaN</td>\n",
              "      <td>APAC</td>\n",
              "      <td>Oceania</td>\n",
              "      <td>TEC-PH-10004664</td>\n",
              "      <td>Technology</td>\n",
              "      <td>Phones</td>\n",
              "      <td>Nokia Smart Phone, with Caller ID</td>\n",
              "      <td>5175.171</td>\n",
              "      <td>9</td>\n",
              "      <td>0.1</td>\n",
              "      <td>919.9710</td>\n",
              "      <td>915.490</td>\n",
              "      <td>Medium</td>\n",
              "    </tr>\n",
              "    <tr>\n",
              "      <th>3</th>\n",
              "      <td>13524</td>\n",
              "      <td>ES-2013-1579342</td>\n",
              "      <td>2013-01-28</td>\n",
              "      <td>2013-01-30</td>\n",
              "      <td>First Class</td>\n",
              "      <td>KM-16375</td>\n",
              "      <td>Katherine Murray</td>\n",
              "      <td>Home Office</td>\n",
              "      <td>Berlin</td>\n",
              "      <td>Berlin</td>\n",
              "      <td>Germany</td>\n",
              "      <td>NaN</td>\n",
              "      <td>EU</td>\n",
              "      <td>Central</td>\n",
              "      <td>TEC-PH-10004583</td>\n",
              "      <td>Technology</td>\n",
              "      <td>Phones</td>\n",
              "      <td>Motorola Smart Phone, Cordless</td>\n",
              "      <td>2892.510</td>\n",
              "      <td>5</td>\n",
              "      <td>0.1</td>\n",
              "      <td>-96.5400</td>\n",
              "      <td>910.160</td>\n",
              "      <td>Medium</td>\n",
              "    </tr>\n",
              "    <tr>\n",
              "      <th>4</th>\n",
              "      <td>47221</td>\n",
              "      <td>SG-2013-4320</td>\n",
              "      <td>2013-11-05</td>\n",
              "      <td>2013-11-06</td>\n",
              "      <td>Same Day</td>\n",
              "      <td>RH-9495</td>\n",
              "      <td>Rick Hansen</td>\n",
              "      <td>Consumer</td>\n",
              "      <td>Dakar</td>\n",
              "      <td>Dakar</td>\n",
              "      <td>Senegal</td>\n",
              "      <td>NaN</td>\n",
              "      <td>Africa</td>\n",
              "      <td>Africa</td>\n",
              "      <td>TEC-SHA-10000501</td>\n",
              "      <td>Technology</td>\n",
              "      <td>Copiers</td>\n",
              "      <td>Sharp Wireless Fax, High-Speed</td>\n",
              "      <td>2832.960</td>\n",
              "      <td>8</td>\n",
              "      <td>0.0</td>\n",
              "      <td>311.5200</td>\n",
              "      <td>903.040</td>\n",
              "      <td>Critical</td>\n",
              "    </tr>\n",
              "    <tr>\n",
              "      <th>...</th>\n",
              "      <td>...</td>\n",
              "      <td>...</td>\n",
              "      <td>...</td>\n",
              "      <td>...</td>\n",
              "      <td>...</td>\n",
              "      <td>...</td>\n",
              "      <td>...</td>\n",
              "      <td>...</td>\n",
              "      <td>...</td>\n",
              "      <td>...</td>\n",
              "      <td>...</td>\n",
              "      <td>...</td>\n",
              "      <td>...</td>\n",
              "      <td>...</td>\n",
              "      <td>...</td>\n",
              "      <td>...</td>\n",
              "      <td>...</td>\n",
              "      <td>...</td>\n",
              "      <td>...</td>\n",
              "      <td>...</td>\n",
              "      <td>...</td>\n",
              "      <td>...</td>\n",
              "      <td>...</td>\n",
              "      <td>...</td>\n",
              "    </tr>\n",
              "    <tr>\n",
              "      <th>51285</th>\n",
              "      <td>29002</td>\n",
              "      <td>IN-2014-62366</td>\n",
              "      <td>2014-06-19</td>\n",
              "      <td>2014-06-19</td>\n",
              "      <td>Same Day</td>\n",
              "      <td>KE-16420</td>\n",
              "      <td>Katrina Edelman</td>\n",
              "      <td>Corporate</td>\n",
              "      <td>Kure</td>\n",
              "      <td>Hiroshima</td>\n",
              "      <td>Japan</td>\n",
              "      <td>NaN</td>\n",
              "      <td>APAC</td>\n",
              "      <td>North Asia</td>\n",
              "      <td>OFF-FA-10000746</td>\n",
              "      <td>Office Supplies</td>\n",
              "      <td>Fasteners</td>\n",
              "      <td>Advantus Thumb Tacks, 12 Pack</td>\n",
              "      <td>65.100</td>\n",
              "      <td>5</td>\n",
              "      <td>0.0</td>\n",
              "      <td>4.5000</td>\n",
              "      <td>0.010</td>\n",
              "      <td>Medium</td>\n",
              "    </tr>\n",
              "    <tr>\n",
              "      <th>51286</th>\n",
              "      <td>35398</td>\n",
              "      <td>US-2014-102288</td>\n",
              "      <td>2014-06-20</td>\n",
              "      <td>2014-06-24</td>\n",
              "      <td>Standard Class</td>\n",
              "      <td>ZC-21910</td>\n",
              "      <td>Zuschuss Carroll</td>\n",
              "      <td>Consumer</td>\n",
              "      <td>Houston</td>\n",
              "      <td>Texas</td>\n",
              "      <td>United States</td>\n",
              "      <td>77095.0</td>\n",
              "      <td>US</td>\n",
              "      <td>Central</td>\n",
              "      <td>OFF-AP-10002906</td>\n",
              "      <td>Office Supplies</td>\n",
              "      <td>Appliances</td>\n",
              "      <td>Hoover Replacement Belt for Commercial Guardsm...</td>\n",
              "      <td>0.444</td>\n",
              "      <td>1</td>\n",
              "      <td>0.8</td>\n",
              "      <td>-1.1100</td>\n",
              "      <td>0.010</td>\n",
              "      <td>Medium</td>\n",
              "    </tr>\n",
              "    <tr>\n",
              "      <th>51287</th>\n",
              "      <td>40470</td>\n",
              "      <td>US-2013-155768</td>\n",
              "      <td>2013-12-02</td>\n",
              "      <td>2013-12-02</td>\n",
              "      <td>Same Day</td>\n",
              "      <td>LB-16795</td>\n",
              "      <td>Laurel Beltran</td>\n",
              "      <td>Home Office</td>\n",
              "      <td>Oxnard</td>\n",
              "      <td>California</td>\n",
              "      <td>United States</td>\n",
              "      <td>93030.0</td>\n",
              "      <td>US</td>\n",
              "      <td>West</td>\n",
              "      <td>OFF-EN-10001219</td>\n",
              "      <td>Office Supplies</td>\n",
              "      <td>Envelopes</td>\n",
              "      <td>#10- 4 1/8\" x 9 1/2\" Security-Tint Envelopes</td>\n",
              "      <td>22.920</td>\n",
              "      <td>3</td>\n",
              "      <td>0.0</td>\n",
              "      <td>11.2308</td>\n",
              "      <td>0.010</td>\n",
              "      <td>High</td>\n",
              "    </tr>\n",
              "    <tr>\n",
              "      <th>51288</th>\n",
              "      <td>9596</td>\n",
              "      <td>MX-2012-140767</td>\n",
              "      <td>2012-02-18</td>\n",
              "      <td>2012-02-22</td>\n",
              "      <td>Standard Class</td>\n",
              "      <td>RB-19795</td>\n",
              "      <td>Ross Baird</td>\n",
              "      <td>Home Office</td>\n",
              "      <td>Valinhos</td>\n",
              "      <td>São Paulo</td>\n",
              "      <td>Brazil</td>\n",
              "      <td>NaN</td>\n",
              "      <td>LATAM</td>\n",
              "      <td>South</td>\n",
              "      <td>OFF-BI-10000806</td>\n",
              "      <td>Office Supplies</td>\n",
              "      <td>Binders</td>\n",
              "      <td>Acco Index Tab, Economy</td>\n",
              "      <td>13.440</td>\n",
              "      <td>2</td>\n",
              "      <td>0.0</td>\n",
              "      <td>2.4000</td>\n",
              "      <td>0.003</td>\n",
              "      <td>Medium</td>\n",
              "    </tr>\n",
              "    <tr>\n",
              "      <th>51289</th>\n",
              "      <td>6147</td>\n",
              "      <td>MX-2012-134460</td>\n",
              "      <td>2012-05-22</td>\n",
              "      <td>2012-05-26</td>\n",
              "      <td>Second Class</td>\n",
              "      <td>MC-18100</td>\n",
              "      <td>Mick Crebagga</td>\n",
              "      <td>Consumer</td>\n",
              "      <td>Tipitapa</td>\n",
              "      <td>Managua</td>\n",
              "      <td>Nicaragua</td>\n",
              "      <td>NaN</td>\n",
              "      <td>LATAM</td>\n",
              "      <td>Central</td>\n",
              "      <td>OFF-PA-10004155</td>\n",
              "      <td>Office Supplies</td>\n",
              "      <td>Paper</td>\n",
              "      <td>Eaton Computer Printout Paper, 8.5 x 11</td>\n",
              "      <td>61.380</td>\n",
              "      <td>3</td>\n",
              "      <td>0.0</td>\n",
              "      <td>1.8000</td>\n",
              "      <td>0.002</td>\n",
              "      <td>High</td>\n",
              "    </tr>\n",
              "  </tbody>\n",
              "</table>\n",
              "<p>51290 rows × 24 columns</p>\n",
              "</div>"
            ],
            "text/plain": [
              "       Row ID         Order ID  ... Shipping Cost Order Priority\n",
              "0       32298   CA-2012-124891  ...       933.570       Critical\n",
              "1       26341    IN-2013-77878  ...       923.630       Critical\n",
              "2       25330    IN-2013-71249  ...       915.490         Medium\n",
              "3       13524  ES-2013-1579342  ...       910.160         Medium\n",
              "4       47221     SG-2013-4320  ...       903.040       Critical\n",
              "...       ...              ...  ...           ...            ...\n",
              "51285   29002    IN-2014-62366  ...         0.010         Medium\n",
              "51286   35398   US-2014-102288  ...         0.010         Medium\n",
              "51287   40470   US-2013-155768  ...         0.010           High\n",
              "51288    9596   MX-2012-140767  ...         0.003         Medium\n",
              "51289    6147   MX-2012-134460  ...         0.002           High\n",
              "\n",
              "[51290 rows x 24 columns]"
            ]
          },
          "metadata": {
            "tags": []
          },
          "execution_count": 43
        }
      ]
    },
    {
      "cell_type": "markdown",
      "metadata": {
        "id": "ofOoE3KEdZb6"
      },
      "source": [
        ""
      ]
    },
    {
      "cell_type": "code",
      "metadata": {
        "id": "GFiK-AQ-dXTf"
      },
      "source": [
        "# pd.set_option('display.max_rows', df_superstore.shape[0]+1)\n",
        "pd.set_option('display.max_rows', 5000)"
      ],
      "execution_count": null,
      "outputs": []
    },
    {
      "cell_type": "markdown",
      "metadata": {
        "id": "DuPbEAx2MEhA"
      },
      "source": [
        "## Data Inspection"
      ]
    },
    {
      "cell_type": "code",
      "metadata": {
        "colab": {
          "base_uri": "https://localhost:8080/"
        },
        "id": "89kFJCxOLNlL",
        "outputId": "6906f087-8ebd-460c-c5bf-4baab9110b82"
      },
      "source": [
        "df_superstore.shape"
      ],
      "execution_count": null,
      "outputs": [
        {
          "output_type": "execute_result",
          "data": {
            "text/plain": [
              "(51290, 24)"
            ]
          },
          "metadata": {
            "tags": []
          },
          "execution_count": 6
        }
      ]
    },
    {
      "cell_type": "code",
      "metadata": {
        "colab": {
          "base_uri": "https://localhost:8080/"
        },
        "id": "qkpglHU7LI_q",
        "outputId": "2fc9f690-aebe-467e-aa4a-3ca4ed61cfb9"
      },
      "source": [
        "df_superstore.info()"
      ],
      "execution_count": null,
      "outputs": [
        {
          "output_type": "stream",
          "text": [
            "<class 'pandas.core.frame.DataFrame'>\n",
            "RangeIndex: 51290 entries, 0 to 51289\n",
            "Data columns (total 24 columns):\n",
            " #   Column          Non-Null Count  Dtype         \n",
            "---  ------          --------------  -----         \n",
            " 0   Row ID          51290 non-null  int64         \n",
            " 1   Order ID        51290 non-null  object        \n",
            " 2   Order Date      51290 non-null  datetime64[ns]\n",
            " 3   Ship Date       51290 non-null  datetime64[ns]\n",
            " 4   Ship Mode       51290 non-null  object        \n",
            " 5   Customer ID     51290 non-null  object        \n",
            " 6   Customer Name   51290 non-null  object        \n",
            " 7   Segment         51290 non-null  object        \n",
            " 8   City            51290 non-null  object        \n",
            " 9   State           51290 non-null  object        \n",
            " 10  Country         51290 non-null  object        \n",
            " 11  Postal Code     9994 non-null   float64       \n",
            " 12  Market          51290 non-null  object        \n",
            " 13  Region          51290 non-null  object        \n",
            " 14  Product ID      51290 non-null  object        \n",
            " 15  Category        51290 non-null  object        \n",
            " 16  Sub-Category    51290 non-null  object        \n",
            " 17  Product Name    51290 non-null  object        \n",
            " 18  Sales           51290 non-null  float64       \n",
            " 19  Quantity        51290 non-null  int64         \n",
            " 20  Discount        51290 non-null  float64       \n",
            " 21  Profit          51290 non-null  float64       \n",
            " 22  Shipping Cost   51290 non-null  float64       \n",
            " 23  Order Priority  51290 non-null  object        \n",
            "dtypes: datetime64[ns](2), float64(5), int64(2), object(15)\n",
            "memory usage: 9.4+ MB\n"
          ],
          "name": "stdout"
        }
      ]
    },
    {
      "cell_type": "markdown",
      "metadata": {
        "id": "OZXGHVU6L9vp"
      },
      "source": [
        "## Data Cleansing"
      ]
    },
    {
      "cell_type": "code",
      "metadata": {
        "colab": {
          "base_uri": "https://localhost:8080/"
        },
        "id": "m_FxwWztLWzt",
        "outputId": "fb69b0ec-6e29-47d7-e9ca-48048378f8fd"
      },
      "source": [
        "df_superstore.isnull().sum()"
      ],
      "execution_count": null,
      "outputs": [
        {
          "output_type": "execute_result",
          "data": {
            "text/plain": [
              "Row ID                0\n",
              "Order ID              0\n",
              "Order Date            0\n",
              "Ship Date             0\n",
              "Ship Mode             0\n",
              "Customer ID           0\n",
              "Customer Name         0\n",
              "Segment               0\n",
              "City                  0\n",
              "State                 0\n",
              "Country               0\n",
              "Postal Code       41296\n",
              "Market                0\n",
              "Region                0\n",
              "Product ID            0\n",
              "Category              0\n",
              "Sub-Category          0\n",
              "Product Name          0\n",
              "Sales                 0\n",
              "Quantity              0\n",
              "Discount              0\n",
              "Profit                0\n",
              "Shipping Cost         0\n",
              "Order Priority        0\n",
              "dtype: int64"
            ]
          },
          "metadata": {
            "tags": []
          },
          "execution_count": 50
        }
      ]
    },
    {
      "cell_type": "code",
      "metadata": {
        "colab": {
          "base_uri": "https://localhost:8080/"
        },
        "id": "togRRbTPLc65",
        "outputId": "db1901b1-8edc-4969-d7ca-c68ba99f6b3a"
      },
      "source": [
        "df_superstore[df_superstore.duplicated()].count()"
      ],
      "execution_count": null,
      "outputs": [
        {
          "output_type": "execute_result",
          "data": {
            "text/plain": [
              "Row ID            0\n",
              "Order ID          0\n",
              "Order Date        0\n",
              "Ship Date         0\n",
              "Ship Mode         0\n",
              "Customer ID       0\n",
              "Customer Name     0\n",
              "Segment           0\n",
              "City              0\n",
              "State             0\n",
              "Country           0\n",
              "Postal Code       0\n",
              "Market            0\n",
              "Region            0\n",
              "Product ID        0\n",
              "Category          0\n",
              "Sub-Category      0\n",
              "Product Name      0\n",
              "Sales             0\n",
              "Quantity          0\n",
              "Discount          0\n",
              "Profit            0\n",
              "Shipping Cost     0\n",
              "Order Priority    0\n",
              "dtype: int64"
            ]
          },
          "metadata": {
            "tags": []
          },
          "execution_count": 51
        }
      ]
    },
    {
      "cell_type": "markdown",
      "metadata": {
        "id": "1V8qK9i6MN1Z"
      },
      "source": [
        "Delete Unnecessary Columns"
      ]
    },
    {
      "cell_type": "code",
      "metadata": {
        "id": "eHJOWdvKMSzL"
      },
      "source": [
        "df_superstore.drop(['Row ID', 'Order ID', 'Customer ID', 'Postal Code', 'Product ID'], axis=1, inplace=True)"
      ],
      "execution_count": null,
      "outputs": []
    },
    {
      "cell_type": "code",
      "metadata": {
        "colab": {
          "base_uri": "https://localhost:8080/"
        },
        "id": "0i2yFh2VM16x",
        "outputId": "c8dae8d5-262f-490a-efb8-26d0bbc6eb89"
      },
      "source": [
        "df_superstore.isnull().sum()"
      ],
      "execution_count": null,
      "outputs": [
        {
          "output_type": "execute_result",
          "data": {
            "text/plain": [
              "Order Date        0\n",
              "Ship Date         0\n",
              "Ship Mode         0\n",
              "Customer Name     0\n",
              "Segment           0\n",
              "City              0\n",
              "State             0\n",
              "Country           0\n",
              "Market            0\n",
              "Region            0\n",
              "Category          0\n",
              "Sub-Category      0\n",
              "Product Name      0\n",
              "Sales             0\n",
              "Quantity          0\n",
              "Discount          0\n",
              "Profit            0\n",
              "Shipping Cost     0\n",
              "Order Priority    0\n",
              "dtype: int64"
            ]
          },
          "metadata": {
            "tags": []
          },
          "execution_count": 53
        }
      ]
    },
    {
      "cell_type": "markdown",
      "metadata": {
        "id": "FHBrj9bYUW5y"
      },
      "source": [
        "## Data Exploration"
      ]
    },
    {
      "cell_type": "code",
      "metadata": {
        "colab": {
          "base_uri": "https://localhost:8080/"
        },
        "id": "ypvtIvU3Nphm",
        "outputId": "44ec57df-de06-4ddc-963e-af4c4a150d92"
      },
      "source": [
        "df_superstore.shape[1]"
      ],
      "execution_count": null,
      "outputs": [
        {
          "output_type": "execute_result",
          "data": {
            "text/plain": [
              "19"
            ]
          },
          "metadata": {
            "tags": []
          },
          "execution_count": 54
        }
      ]
    },
    {
      "cell_type": "markdown",
      "metadata": {
        "id": "4uikrdffQY57"
      },
      "source": [
        "- Sales : Hasil Penjualan \n",
        "- Quantity : Jumlah Penjualan\n",
        "- Profit : Keuntungan\n",
        "- Shipping Cost : Biaya Pengiriman"
      ]
    },
    {
      "cell_type": "code",
      "metadata": {
        "colab": {
          "base_uri": "https://localhost:8080/",
          "height": 294
        },
        "id": "yX1Tn2vuM6Dx",
        "outputId": "45f6a7f0-15f5-4d83-debb-1984349faaf5"
      },
      "source": [
        "df_superstore.describe()"
      ],
      "execution_count": null,
      "outputs": [
        {
          "output_type": "execute_result",
          "data": {
            "text/html": [
              "<div>\n",
              "<style scoped>\n",
              "    .dataframe tbody tr th:only-of-type {\n",
              "        vertical-align: middle;\n",
              "    }\n",
              "\n",
              "    .dataframe tbody tr th {\n",
              "        vertical-align: top;\n",
              "    }\n",
              "\n",
              "    .dataframe thead th {\n",
              "        text-align: right;\n",
              "    }\n",
              "</style>\n",
              "<table border=\"1\" class=\"dataframe\">\n",
              "  <thead>\n",
              "    <tr style=\"text-align: right;\">\n",
              "      <th></th>\n",
              "      <th>Sales</th>\n",
              "      <th>Quantity</th>\n",
              "      <th>Discount</th>\n",
              "      <th>Profit</th>\n",
              "      <th>Shipping Cost</th>\n",
              "    </tr>\n",
              "  </thead>\n",
              "  <tbody>\n",
              "    <tr>\n",
              "      <th>count</th>\n",
              "      <td>51290.000000</td>\n",
              "      <td>51290.000000</td>\n",
              "      <td>51290.000000</td>\n",
              "      <td>51290.000000</td>\n",
              "      <td>51290.000000</td>\n",
              "    </tr>\n",
              "    <tr>\n",
              "      <th>mean</th>\n",
              "      <td>246.490581</td>\n",
              "      <td>3.476545</td>\n",
              "      <td>0.142908</td>\n",
              "      <td>28.610982</td>\n",
              "      <td>26.375818</td>\n",
              "    </tr>\n",
              "    <tr>\n",
              "      <th>std</th>\n",
              "      <td>487.565361</td>\n",
              "      <td>2.278766</td>\n",
              "      <td>0.212280</td>\n",
              "      <td>174.340972</td>\n",
              "      <td>57.296810</td>\n",
              "    </tr>\n",
              "    <tr>\n",
              "      <th>min</th>\n",
              "      <td>0.444000</td>\n",
              "      <td>1.000000</td>\n",
              "      <td>0.000000</td>\n",
              "      <td>-6599.978000</td>\n",
              "      <td>0.002000</td>\n",
              "    </tr>\n",
              "    <tr>\n",
              "      <th>25%</th>\n",
              "      <td>30.758625</td>\n",
              "      <td>2.000000</td>\n",
              "      <td>0.000000</td>\n",
              "      <td>0.000000</td>\n",
              "      <td>2.610000</td>\n",
              "    </tr>\n",
              "    <tr>\n",
              "      <th>50%</th>\n",
              "      <td>85.053000</td>\n",
              "      <td>3.000000</td>\n",
              "      <td>0.000000</td>\n",
              "      <td>9.240000</td>\n",
              "      <td>7.790000</td>\n",
              "    </tr>\n",
              "    <tr>\n",
              "      <th>75%</th>\n",
              "      <td>251.053200</td>\n",
              "      <td>5.000000</td>\n",
              "      <td>0.200000</td>\n",
              "      <td>36.810000</td>\n",
              "      <td>24.450000</td>\n",
              "    </tr>\n",
              "    <tr>\n",
              "      <th>max</th>\n",
              "      <td>22638.480000</td>\n",
              "      <td>14.000000</td>\n",
              "      <td>0.850000</td>\n",
              "      <td>8399.976000</td>\n",
              "      <td>933.570000</td>\n",
              "    </tr>\n",
              "  </tbody>\n",
              "</table>\n",
              "</div>"
            ],
            "text/plain": [
              "              Sales      Quantity      Discount        Profit  Shipping Cost\n",
              "count  51290.000000  51290.000000  51290.000000  51290.000000   51290.000000\n",
              "mean     246.490581      3.476545      0.142908     28.610982      26.375818\n",
              "std      487.565361      2.278766      0.212280    174.340972      57.296810\n",
              "min        0.444000      1.000000      0.000000  -6599.978000       0.002000\n",
              "25%       30.758625      2.000000      0.000000      0.000000       2.610000\n",
              "50%       85.053000      3.000000      0.000000      9.240000       7.790000\n",
              "75%      251.053200      5.000000      0.200000     36.810000      24.450000\n",
              "max    22638.480000     14.000000      0.850000   8399.976000     933.570000"
            ]
          },
          "metadata": {
            "tags": []
          },
          "execution_count": 55
        }
      ]
    },
    {
      "cell_type": "code",
      "metadata": {
        "id": "VhSsnOVsVdSc"
      },
      "source": [
        "df_superstore['Profit Ratio'] = df_superstore['Profit']/df_superstore['Sales']"
      ],
      "execution_count": null,
      "outputs": []
    },
    {
      "cell_type": "markdown",
      "metadata": {
        "id": "S_05Xkt4Qsrg"
      },
      "source": [
        "- Ship Mode : Mode Pengiriman\n",
        "- Segment : Segment dari Pelanggan\n",
        "- Market : Wilayah Pemasaran pada Yuridiksi daerah tertentu\n",
        "- Region : Daerah teritorial\n",
        "- Category : Kategori Barang\n",
        "- Sub-category : Cabang Kategori dari barang\n",
        "- Order Priority : Prioritas Pengiriman"
      ]
    },
    {
      "cell_type": "code",
      "metadata": {
        "colab": {
          "base_uri": "https://localhost:8080/",
          "height": 204
        },
        "id": "FwtiTHwTNBQC",
        "outputId": "3afb8bff-a6ba-4aa6-b667-56cffc8a7151"
      },
      "source": [
        "df_superstore.describe(include=['O'])"
      ],
      "execution_count": null,
      "outputs": [
        {
          "output_type": "execute_result",
          "data": {
            "text/html": [
              "<div>\n",
              "<style scoped>\n",
              "    .dataframe tbody tr th:only-of-type {\n",
              "        vertical-align: middle;\n",
              "    }\n",
              "\n",
              "    .dataframe tbody tr th {\n",
              "        vertical-align: top;\n",
              "    }\n",
              "\n",
              "    .dataframe thead th {\n",
              "        text-align: right;\n",
              "    }\n",
              "</style>\n",
              "<table border=\"1\" class=\"dataframe\">\n",
              "  <thead>\n",
              "    <tr style=\"text-align: right;\">\n",
              "      <th></th>\n",
              "      <th>Ship Mode</th>\n",
              "      <th>Customer Name</th>\n",
              "      <th>Segment</th>\n",
              "      <th>City</th>\n",
              "      <th>State</th>\n",
              "      <th>Country</th>\n",
              "      <th>Market</th>\n",
              "      <th>Region</th>\n",
              "      <th>Category</th>\n",
              "      <th>Sub-Category</th>\n",
              "      <th>Product Name</th>\n",
              "      <th>Order Priority</th>\n",
              "    </tr>\n",
              "  </thead>\n",
              "  <tbody>\n",
              "    <tr>\n",
              "      <th>count</th>\n",
              "      <td>51290</td>\n",
              "      <td>51290</td>\n",
              "      <td>51290</td>\n",
              "      <td>51290</td>\n",
              "      <td>51290</td>\n",
              "      <td>51290</td>\n",
              "      <td>51290</td>\n",
              "      <td>51290</td>\n",
              "      <td>51290</td>\n",
              "      <td>51290</td>\n",
              "      <td>51290</td>\n",
              "      <td>51290</td>\n",
              "    </tr>\n",
              "    <tr>\n",
              "      <th>unique</th>\n",
              "      <td>4</td>\n",
              "      <td>795</td>\n",
              "      <td>3</td>\n",
              "      <td>3636</td>\n",
              "      <td>1094</td>\n",
              "      <td>147</td>\n",
              "      <td>7</td>\n",
              "      <td>13</td>\n",
              "      <td>3</td>\n",
              "      <td>17</td>\n",
              "      <td>3788</td>\n",
              "      <td>4</td>\n",
              "    </tr>\n",
              "    <tr>\n",
              "      <th>top</th>\n",
              "      <td>Standard Class</td>\n",
              "      <td>Muhammed Yedwab</td>\n",
              "      <td>Consumer</td>\n",
              "      <td>New York City</td>\n",
              "      <td>California</td>\n",
              "      <td>United States</td>\n",
              "      <td>APAC</td>\n",
              "      <td>Central</td>\n",
              "      <td>Office Supplies</td>\n",
              "      <td>Binders</td>\n",
              "      <td>Staples</td>\n",
              "      <td>Medium</td>\n",
              "    </tr>\n",
              "    <tr>\n",
              "      <th>freq</th>\n",
              "      <td>30775</td>\n",
              "      <td>108</td>\n",
              "      <td>26518</td>\n",
              "      <td>915</td>\n",
              "      <td>2001</td>\n",
              "      <td>9994</td>\n",
              "      <td>11002</td>\n",
              "      <td>11117</td>\n",
              "      <td>31273</td>\n",
              "      <td>6152</td>\n",
              "      <td>227</td>\n",
              "      <td>29433</td>\n",
              "    </tr>\n",
              "  </tbody>\n",
              "</table>\n",
              "</div>"
            ],
            "text/plain": [
              "             Ship Mode    Customer Name  ... Product Name Order Priority\n",
              "count            51290            51290  ...        51290          51290\n",
              "unique               4              795  ...         3788              4\n",
              "top     Standard Class  Muhammed Yedwab  ...      Staples         Medium\n",
              "freq             30775              108  ...          227          29433\n",
              "\n",
              "[4 rows x 12 columns]"
            ]
          },
          "metadata": {
            "tags": []
          },
          "execution_count": 16
        }
      ]
    },
    {
      "cell_type": "code",
      "metadata": {
        "colab": {
          "base_uri": "https://localhost:8080/"
        },
        "id": "I4RG2Sc3Oc8c",
        "outputId": "e66f0b93-b8d5-4f20-bd4e-e612b3fa7902"
      },
      "source": [
        "for colname, coldata in df_superstore[['Ship Mode', 'Segment', 'Market', 'Region', 'Category', 'Sub-Category', 'Order Priority']].iteritems():\n",
        "    print(f'Unique Value of {colname} : {coldata.unique()}')"
      ],
      "execution_count": null,
      "outputs": [
        {
          "output_type": "stream",
          "text": [
            "Unique Value of Ship Mode : ['Same Day' 'Second Class' 'First Class' 'Standard Class']\n",
            "Unique Value of Segment : ['Consumer' 'Corporate' 'Home Office']\n",
            "Unique Value of Market : ['US' 'APAC' 'EU' 'Africa' 'EMEA' 'LATAM' 'Canada']\n",
            "Unique Value of Region : ['East' 'Oceania' 'Central' 'Africa' 'West' 'South' 'Central Asia' 'EMEA'\n",
            " 'North Asia' 'North' 'Caribbean' 'Southeast Asia' 'Canada']\n",
            "Unique Value of Category : ['Technology' 'Furniture' 'Office Supplies']\n",
            "Unique Value of Sub-Category : ['Accessories' 'Chairs' 'Phones' 'Copiers' 'Tables' 'Binders' 'Supplies'\n",
            " 'Appliances' 'Machines' 'Bookcases' 'Storage' 'Furnishings' 'Art' 'Paper'\n",
            " 'Envelopes' 'Fasteners' 'Labels']\n",
            "Unique Value of Order Priority : ['Critical' 'Medium' 'High' 'Low']\n"
          ],
          "name": "stdout"
        }
      ]
    },
    {
      "cell_type": "markdown",
      "metadata": {
        "id": "jLSHANXPUKHh"
      },
      "source": [
        "# Exploratory Data Analysis"
      ]
    },
    {
      "cell_type": "markdown",
      "metadata": {
        "id": "kMz-033AUeaq"
      },
      "source": [
        "## Most Best Sales of Category\n",
        "Quantity, Sales, Category, Subcategory"
      ]
    },
    {
      "cell_type": "code",
      "metadata": {
        "colab": {
          "base_uri": "https://localhost:8080/",
          "height": 414
        },
        "id": "Jp5iI4c4Udv2",
        "outputId": "d455f7a2-ebf3-46f7-f01f-05a6983d96d1"
      },
      "source": [
        "df_superstore[['Category', 'Sub-Category', 'Quantity', 'Sales', 'Profit Ratio']]"
      ],
      "execution_count": null,
      "outputs": [
        {
          "output_type": "execute_result",
          "data": {
            "text/html": [
              "<div>\n",
              "<style scoped>\n",
              "    .dataframe tbody tr th:only-of-type {\n",
              "        vertical-align: middle;\n",
              "    }\n",
              "\n",
              "    .dataframe tbody tr th {\n",
              "        vertical-align: top;\n",
              "    }\n",
              "\n",
              "    .dataframe thead th {\n",
              "        text-align: right;\n",
              "    }\n",
              "</style>\n",
              "<table border=\"1\" class=\"dataframe\">\n",
              "  <thead>\n",
              "    <tr style=\"text-align: right;\">\n",
              "      <th></th>\n",
              "      <th>Category</th>\n",
              "      <th>Sub-Category</th>\n",
              "      <th>Quantity</th>\n",
              "      <th>Sales</th>\n",
              "      <th>Profit Ratio</th>\n",
              "    </tr>\n",
              "  </thead>\n",
              "  <tbody>\n",
              "    <tr>\n",
              "      <th>0</th>\n",
              "      <td>Technology</td>\n",
              "      <td>Accessories</td>\n",
              "      <td>7</td>\n",
              "      <td>2309.650</td>\n",
              "      <td>0.330000</td>\n",
              "    </tr>\n",
              "    <tr>\n",
              "      <th>1</th>\n",
              "      <td>Furniture</td>\n",
              "      <td>Chairs</td>\n",
              "      <td>9</td>\n",
              "      <td>3709.395</td>\n",
              "      <td>-0.077847</td>\n",
              "    </tr>\n",
              "    <tr>\n",
              "      <th>2</th>\n",
              "      <td>Technology</td>\n",
              "      <td>Phones</td>\n",
              "      <td>9</td>\n",
              "      <td>5175.171</td>\n",
              "      <td>0.177766</td>\n",
              "    </tr>\n",
              "    <tr>\n",
              "      <th>3</th>\n",
              "      <td>Technology</td>\n",
              "      <td>Phones</td>\n",
              "      <td>5</td>\n",
              "      <td>2892.510</td>\n",
              "      <td>-0.033376</td>\n",
              "    </tr>\n",
              "    <tr>\n",
              "      <th>4</th>\n",
              "      <td>Technology</td>\n",
              "      <td>Copiers</td>\n",
              "      <td>8</td>\n",
              "      <td>2832.960</td>\n",
              "      <td>0.109963</td>\n",
              "    </tr>\n",
              "    <tr>\n",
              "      <th>...</th>\n",
              "      <td>...</td>\n",
              "      <td>...</td>\n",
              "      <td>...</td>\n",
              "      <td>...</td>\n",
              "      <td>...</td>\n",
              "    </tr>\n",
              "    <tr>\n",
              "      <th>51285</th>\n",
              "      <td>Office Supplies</td>\n",
              "      <td>Fasteners</td>\n",
              "      <td>5</td>\n",
              "      <td>65.100</td>\n",
              "      <td>0.069124</td>\n",
              "    </tr>\n",
              "    <tr>\n",
              "      <th>51286</th>\n",
              "      <td>Office Supplies</td>\n",
              "      <td>Appliances</td>\n",
              "      <td>1</td>\n",
              "      <td>0.444</td>\n",
              "      <td>-2.500000</td>\n",
              "    </tr>\n",
              "    <tr>\n",
              "      <th>51287</th>\n",
              "      <td>Office Supplies</td>\n",
              "      <td>Envelopes</td>\n",
              "      <td>3</td>\n",
              "      <td>22.920</td>\n",
              "      <td>0.490000</td>\n",
              "    </tr>\n",
              "    <tr>\n",
              "      <th>51288</th>\n",
              "      <td>Office Supplies</td>\n",
              "      <td>Binders</td>\n",
              "      <td>2</td>\n",
              "      <td>13.440</td>\n",
              "      <td>0.178571</td>\n",
              "    </tr>\n",
              "    <tr>\n",
              "      <th>51289</th>\n",
              "      <td>Office Supplies</td>\n",
              "      <td>Paper</td>\n",
              "      <td>3</td>\n",
              "      <td>61.380</td>\n",
              "      <td>0.029326</td>\n",
              "    </tr>\n",
              "  </tbody>\n",
              "</table>\n",
              "<p>51290 rows × 5 columns</p>\n",
              "</div>"
            ],
            "text/plain": [
              "              Category Sub-Category  Quantity     Sales  Profit Ratio\n",
              "0           Technology  Accessories         7  2309.650      0.330000\n",
              "1            Furniture       Chairs         9  3709.395     -0.077847\n",
              "2           Technology       Phones         9  5175.171      0.177766\n",
              "3           Technology       Phones         5  2892.510     -0.033376\n",
              "4           Technology      Copiers         8  2832.960      0.109963\n",
              "...                ...          ...       ...       ...           ...\n",
              "51285  Office Supplies    Fasteners         5    65.100      0.069124\n",
              "51286  Office Supplies   Appliances         1     0.444     -2.500000\n",
              "51287  Office Supplies    Envelopes         3    22.920      0.490000\n",
              "51288  Office Supplies      Binders         2    13.440      0.178571\n",
              "51289  Office Supplies        Paper         3    61.380      0.029326\n",
              "\n",
              "[51290 rows x 5 columns]"
            ]
          },
          "metadata": {
            "tags": []
          },
          "execution_count": 58
        }
      ]
    },
    {
      "cell_type": "code",
      "metadata": {
        "colab": {
          "base_uri": "https://localhost:8080/",
          "height": 535
        },
        "id": "sD8gv2sy4M3-",
        "outputId": "487fabdf-a08e-4e14-fa7d-3505612af4e9"
      },
      "source": [
        "# Set the figure size\n",
        "plt.subplots(figsize=(10, 8))\n",
        "sns.barplot(x='Category', y='Sales', data=df_superstore)\n",
        "\n",
        "plt.title('Most Sales based on Category', fontsize=16)\n",
        "plt.xlabel('Category', fontsize=12)\n",
        "plt.ylabel('Sales', fontsize=12)"
      ],
      "execution_count": null,
      "outputs": [
        {
          "output_type": "execute_result",
          "data": {
            "text/plain": [
              "Text(0, 0.5, 'Sales')"
            ]
          },
          "metadata": {
            "tags": []
          },
          "execution_count": 147
        },
        {
          "output_type": "display_data",
          "data": {
            "image/png": "[encoded data removed]",
            "text/plain": [
              "<Figure size 720x576 with 1 Axes>"
            ]
          },
          "metadata": {
            "tags": [],
            "needs_background": "light"
          }
        }
      ]
    },
    {
      "cell_type": "code",
      "metadata": {
        "colab": {
          "base_uri": "https://localhost:8080/",
          "height": 535
        },
        "id": "XWZHHUkj4MTS",
        "outputId": "754cc6fb-8821-4fcc-a6b0-6dc12f3eec6e"
      },
      "source": [
        "# Set the figure size\n",
        "plt.subplots(figsize=(10, 8))\n",
        "sns.barplot(x='Category', y='Profit', data=df_superstore)\n",
        "\n",
        "plt.title('Most Profit based on Category', fontsize=16)\n",
        "plt.xlabel('Category', fontsize=12)\n",
        "plt.ylabel('Profit', fontsize=12)"
      ],
      "execution_count": null,
      "outputs": [
        {
          "output_type": "execute_result",
          "data": {
            "text/plain": [
              "Text(0, 0.5, 'Profit')"
            ]
          },
          "metadata": {
            "tags": []
          },
          "execution_count": 146
        },
        {
          "output_type": "display_data",
          "data": {
            "image/png": "[encoded data removed]",
            "text/plain": [
              "<Figure size 720x576 with 1 Axes>"
            ]
          },
          "metadata": {
            "tags": [],
            "needs_background": "light"
          }
        }
      ]
    },
    {
      "cell_type": "code",
      "metadata": {
        "colab": {
          "base_uri": "https://localhost:8080/",
          "height": 535
        },
        "id": "YeD_buC2oNL-",
        "outputId": "0695691c-de9d-47ba-f732-558ca8fae1c5"
      },
      "source": [
        "# Set the figure size\n",
        "plt.subplots(figsize=(10, 8))\n",
        "sns.barplot(x='Category', y='Profit Ratio', data=df_superstore)\n",
        "\n",
        "plt.title('Most Profit Rate based on Category', fontsize=16)\n",
        "plt.xlabel('Category', fontsize=12)\n",
        "plt.ylabel('Profit Ratio', fontsize=12)"
      ],
      "execution_count": null,
      "outputs": [
        {
          "output_type": "execute_result",
          "data": {
            "text/plain": [
              "Text(0, 0.5, 'Profit Ratio')"
            ]
          },
          "metadata": {
            "tags": []
          },
          "execution_count": 129
        },
        {
          "output_type": "display_data",
          "data": {
            "image/png": "[encoded data removed]",
            "text/plain": [
              "<Figure size 720x576 with 1 Axes>"
            ]
          },
          "metadata": {
            "tags": [],
            "needs_background": "light"
          }
        }
      ]
    },
    {
      "cell_type": "code",
      "metadata": {
        "colab": {
          "base_uri": "https://localhost:8080/",
          "height": 543
        },
        "id": "h4_lgeVAr8ND",
        "outputId": "c520e3e6-15e6-49e3-d00d-e440cb8fd046"
      },
      "source": [
        "# Set the figure size\n",
        "plt.subplots(figsize=(18, 8))\n",
        "sns.barplot(x='Sub-Category', y='Profit Ratio', data=df_superstore)\n",
        "\n",
        "plt.title('Most Profit Rate based on Sub-Category', fontsize=20)\n",
        "plt.xlabel('Sub-Category', fontsize=18)\n",
        "plt.ylabel('Profit Ratio', fontsize=18)"
      ],
      "execution_count": null,
      "outputs": [
        {
          "output_type": "execute_result",
          "data": {
            "text/plain": [
              "Text(0, 0.5, 'Profit Ratio')"
            ]
          },
          "metadata": {
            "tags": []
          },
          "execution_count": 132
        },
        {
          "output_type": "display_data",
          "data": {
            "image/png": "[encoded data removed]",
            "text/plain": [
              "<Figure size 1296x576 with 1 Axes>"
            ]
          },
          "metadata": {
            "tags": [],
            "needs_background": "light"
          }
        }
      ]
    },
    {
      "cell_type": "markdown",
      "metadata": {
        "id": "Yhyopo_bUsXJ"
      },
      "source": [
        "## Segment with most Profit Ratio\n",
        "Profit Ratio = Profit / Sales"
      ]
    },
    {
      "cell_type": "code",
      "metadata": {
        "colab": {
          "base_uri": "https://localhost:8080/",
          "height": 414
        },
        "id": "4BcGqMnVVIeS",
        "outputId": "60ff514b-102b-4522-a804-2260a4a73db7"
      },
      "source": [
        "df_superstore[['Segment', 'Sales', 'Profit', 'Profit Ratio']]"
      ],
      "execution_count": null,
      "outputs": [
        {
          "output_type": "execute_result",
          "data": {
            "text/html": [
              "<div>\n",
              "<style scoped>\n",
              "    .dataframe tbody tr th:only-of-type {\n",
              "        vertical-align: middle;\n",
              "    }\n",
              "\n",
              "    .dataframe tbody tr th {\n",
              "        vertical-align: top;\n",
              "    }\n",
              "\n",
              "    .dataframe thead th {\n",
              "        text-align: right;\n",
              "    }\n",
              "</style>\n",
              "<table border=\"1\" class=\"dataframe\">\n",
              "  <thead>\n",
              "    <tr style=\"text-align: right;\">\n",
              "      <th></th>\n",
              "      <th>Segment</th>\n",
              "      <th>Sales</th>\n",
              "      <th>Profit</th>\n",
              "      <th>Profit Ratio</th>\n",
              "    </tr>\n",
              "  </thead>\n",
              "  <tbody>\n",
              "    <tr>\n",
              "      <th>0</th>\n",
              "      <td>Consumer</td>\n",
              "      <td>2309.650</td>\n",
              "      <td>762.1845</td>\n",
              "      <td>0.330000</td>\n",
              "    </tr>\n",
              "    <tr>\n",
              "      <th>1</th>\n",
              "      <td>Corporate</td>\n",
              "      <td>3709.395</td>\n",
              "      <td>-288.7650</td>\n",
              "      <td>-0.077847</td>\n",
              "    </tr>\n",
              "    <tr>\n",
              "      <th>2</th>\n",
              "      <td>Consumer</td>\n",
              "      <td>5175.171</td>\n",
              "      <td>919.9710</td>\n",
              "      <td>0.177766</td>\n",
              "    </tr>\n",
              "    <tr>\n",
              "      <th>3</th>\n",
              "      <td>Home Office</td>\n",
              "      <td>2892.510</td>\n",
              "      <td>-96.5400</td>\n",
              "      <td>-0.033376</td>\n",
              "    </tr>\n",
              "    <tr>\n",
              "      <th>4</th>\n",
              "      <td>Consumer</td>\n",
              "      <td>2832.960</td>\n",
              "      <td>311.5200</td>\n",
              "      <td>0.109963</td>\n",
              "    </tr>\n",
              "    <tr>\n",
              "      <th>...</th>\n",
              "      <td>...</td>\n",
              "      <td>...</td>\n",
              "      <td>...</td>\n",
              "      <td>...</td>\n",
              "    </tr>\n",
              "    <tr>\n",
              "      <th>51285</th>\n",
              "      <td>Corporate</td>\n",
              "      <td>65.100</td>\n",
              "      <td>4.5000</td>\n",
              "      <td>0.069124</td>\n",
              "    </tr>\n",
              "    <tr>\n",
              "      <th>51286</th>\n",
              "      <td>Consumer</td>\n",
              "      <td>0.444</td>\n",
              "      <td>-1.1100</td>\n",
              "      <td>-2.500000</td>\n",
              "    </tr>\n",
              "    <tr>\n",
              "      <th>51287</th>\n",
              "      <td>Home Office</td>\n",
              "      <td>22.920</td>\n",
              "      <td>11.2308</td>\n",
              "      <td>0.490000</td>\n",
              "    </tr>\n",
              "    <tr>\n",
              "      <th>51288</th>\n",
              "      <td>Home Office</td>\n",
              "      <td>13.440</td>\n",
              "      <td>2.4000</td>\n",
              "      <td>0.178571</td>\n",
              "    </tr>\n",
              "    <tr>\n",
              "      <th>51289</th>\n",
              "      <td>Consumer</td>\n",
              "      <td>61.380</td>\n",
              "      <td>1.8000</td>\n",
              "      <td>0.029326</td>\n",
              "    </tr>\n",
              "  </tbody>\n",
              "</table>\n",
              "<p>51290 rows × 4 columns</p>\n",
              "</div>"
            ],
            "text/plain": [
              "           Segment     Sales    Profit  Profit Ratio\n",
              "0         Consumer  2309.650  762.1845      0.330000\n",
              "1        Corporate  3709.395 -288.7650     -0.077847\n",
              "2         Consumer  5175.171  919.9710      0.177766\n",
              "3      Home Office  2892.510  -96.5400     -0.033376\n",
              "4         Consumer  2832.960  311.5200      0.109963\n",
              "...            ...       ...       ...           ...\n",
              "51285    Corporate    65.100    4.5000      0.069124\n",
              "51286     Consumer     0.444   -1.1100     -2.500000\n",
              "51287  Home Office    22.920   11.2308      0.490000\n",
              "51288  Home Office    13.440    2.4000      0.178571\n",
              "51289     Consumer    61.380    1.8000      0.029326\n",
              "\n",
              "[51290 rows x 4 columns]"
            ]
          },
          "metadata": {
            "tags": []
          },
          "execution_count": 60
        }
      ]
    },
    {
      "cell_type": "code",
      "metadata": {
        "colab": {
          "base_uri": "https://localhost:8080/",
          "height": 426
        },
        "id": "hxUUZctKn-YK",
        "outputId": "6ccc21e3-1874-495b-d727-72acc47f0980"
      },
      "source": [
        "plt.subplots(figsize=(8, 6))\n",
        "sns.barplot(x='Segment', y='Sales', data=df_superstore)\n",
        "\n",
        "plt.title('Most Revenue based on Customer Segment', fontsize=16)\n",
        "plt.xlabel('Segment', fontsize=12)\n",
        "plt.ylabel('Revenue', fontsize=12)"
      ],
      "execution_count": null,
      "outputs": [
        {
          "output_type": "execute_result",
          "data": {
            "text/plain": [
              "Text(0, 0.5, 'Revenue')"
            ]
          },
          "metadata": {
            "tags": []
          },
          "execution_count": 133
        },
        {
          "output_type": "display_data",
          "data": {
            "image/png": "[encoded data removed]",
            "text/plain": [
              "<Figure size 576x432 with 1 Axes>"
            ]
          },
          "metadata": {
            "tags": [],
            "needs_background": "light"
          }
        }
      ]
    },
    {
      "cell_type": "code",
      "metadata": {
        "colab": {
          "base_uri": "https://localhost:8080/",
          "height": 426
        },
        "id": "cME0P7PRn7pW",
        "outputId": "38355d62-0a45-4ab2-c00b-f376fb8649ad"
      },
      "source": [
        "plt.subplots(figsize=(8, 6))\n",
        "sns.barplot(x='Segment', y='Profit', data=df_superstore)\n",
        "\n",
        "plt.title('Most Net Profit based on Customer Segment', fontsize=16)\n",
        "plt.xlabel('Segment', fontsize=12)\n",
        "plt.ylabel('Net Profit', fontsize=12)"
      ],
      "execution_count": null,
      "outputs": [
        {
          "output_type": "execute_result",
          "data": {
            "text/plain": [
              "Text(0, 0.5, 'Net Profit')"
            ]
          },
          "metadata": {
            "tags": []
          },
          "execution_count": 134
        },
        {
          "output_type": "display_data",
          "data": {
            "image/png": "[encoded data removed]",
            "text/plain": [
              "<Figure size 576x432 with 1 Axes>"
            ]
          },
          "metadata": {
            "tags": [],
            "needs_background": "light"
          }
        }
      ]
    },
    {
      "cell_type": "code",
      "metadata": {
        "colab": {
          "base_uri": "https://localhost:8080/",
          "height": 426
        },
        "id": "5uOAOqi4nnUl",
        "outputId": "d926cd5b-0554-45d9-deed-0fdcda6951f7"
      },
      "source": [
        "plt.subplots(figsize=(8, 6))\n",
        "sns.barplot(x='Segment', y='Profit Ratio', data=df_superstore)\n",
        "\n",
        "plt.title('Most Profit Rate on Customer Segment', fontsize=16)\n",
        "plt.xlabel('Segment', fontsize=12)\n",
        "plt.ylabel('Profit Rate', fontsize=12)"
      ],
      "execution_count": null,
      "outputs": [
        {
          "output_type": "execute_result",
          "data": {
            "text/plain": [
              "Text(0, 0.5, 'Profit Rate')"
            ]
          },
          "metadata": {
            "tags": []
          },
          "execution_count": 135
        },
        {
          "output_type": "display_data",
          "data": {
            "image/png": "[encoded data removed]",
            "text/plain": [
              "<Figure size 576x432 with 1 Axes>"
            ]
          },
          "metadata": {
            "tags": [],
            "needs_background": "light"
          }
        }
      ]
    },
    {
      "cell_type": "markdown",
      "metadata": {
        "id": "bpCI3UcAWeOx"
      },
      "source": [
        "## Region with The Most Profit"
      ]
    },
    {
      "cell_type": "code",
      "metadata": {
        "colab": {
          "base_uri": "https://localhost:8080/",
          "height": 414
        },
        "id": "Ml6x33m3h5hu",
        "outputId": "88138839-567f-4a49-e113-442ebbd75073"
      },
      "source": [
        "df_superstore[['Region', 'Market', 'Sales', 'Profit','Profit Ratio']]"
      ],
      "execution_count": null,
      "outputs": [
        {
          "output_type": "execute_result",
          "data": {
            "text/html": [
              "<div>\n",
              "<style scoped>\n",
              "    .dataframe tbody tr th:only-of-type {\n",
              "        vertical-align: middle;\n",
              "    }\n",
              "\n",
              "    .dataframe tbody tr th {\n",
              "        vertical-align: top;\n",
              "    }\n",
              "\n",
              "    .dataframe thead th {\n",
              "        text-align: right;\n",
              "    }\n",
              "</style>\n",
              "<table border=\"1\" class=\"dataframe\">\n",
              "  <thead>\n",
              "    <tr style=\"text-align: right;\">\n",
              "      <th></th>\n",
              "      <th>Region</th>\n",
              "      <th>Market</th>\n",
              "      <th>Sales</th>\n",
              "      <th>Profit</th>\n",
              "      <th>Profit Ratio</th>\n",
              "    </tr>\n",
              "  </thead>\n",
              "  <tbody>\n",
              "    <tr>\n",
              "      <th>0</th>\n",
              "      <td>East</td>\n",
              "      <td>US</td>\n",
              "      <td>2309.650</td>\n",
              "      <td>762.1845</td>\n",
              "      <td>0.330000</td>\n",
              "    </tr>\n",
              "    <tr>\n",
              "      <th>1</th>\n",
              "      <td>Oceania</td>\n",
              "      <td>APAC</td>\n",
              "      <td>3709.395</td>\n",
              "      <td>-288.7650</td>\n",
              "      <td>-0.077847</td>\n",
              "    </tr>\n",
              "    <tr>\n",
              "      <th>2</th>\n",
              "      <td>Oceania</td>\n",
              "      <td>APAC</td>\n",
              "      <td>5175.171</td>\n",
              "      <td>919.9710</td>\n",
              "      <td>0.177766</td>\n",
              "    </tr>\n",
              "    <tr>\n",
              "      <th>3</th>\n",
              "      <td>Central</td>\n",
              "      <td>EU</td>\n",
              "      <td>2892.510</td>\n",
              "      <td>-96.5400</td>\n",
              "      <td>-0.033376</td>\n",
              "    </tr>\n",
              "    <tr>\n",
              "      <th>4</th>\n",
              "      <td>Africa</td>\n",
              "      <td>Africa</td>\n",
              "      <td>2832.960</td>\n",
              "      <td>311.5200</td>\n",
              "      <td>0.109963</td>\n",
              "    </tr>\n",
              "    <tr>\n",
              "      <th>...</th>\n",
              "      <td>...</td>\n",
              "      <td>...</td>\n",
              "      <td>...</td>\n",
              "      <td>...</td>\n",
              "      <td>...</td>\n",
              "    </tr>\n",
              "    <tr>\n",
              "      <th>51285</th>\n",
              "      <td>North Asia</td>\n",
              "      <td>APAC</td>\n",
              "      <td>65.100</td>\n",
              "      <td>4.5000</td>\n",
              "      <td>0.069124</td>\n",
              "    </tr>\n",
              "    <tr>\n",
              "      <th>51286</th>\n",
              "      <td>Central</td>\n",
              "      <td>US</td>\n",
              "      <td>0.444</td>\n",
              "      <td>-1.1100</td>\n",
              "      <td>-2.500000</td>\n",
              "    </tr>\n",
              "    <tr>\n",
              "      <th>51287</th>\n",
              "      <td>West</td>\n",
              "      <td>US</td>\n",
              "      <td>22.920</td>\n",
              "      <td>11.2308</td>\n",
              "      <td>0.490000</td>\n",
              "    </tr>\n",
              "    <tr>\n",
              "      <th>51288</th>\n",
              "      <td>South</td>\n",
              "      <td>LATAM</td>\n",
              "      <td>13.440</td>\n",
              "      <td>2.4000</td>\n",
              "      <td>0.178571</td>\n",
              "    </tr>\n",
              "    <tr>\n",
              "      <th>51289</th>\n",
              "      <td>Central</td>\n",
              "      <td>LATAM</td>\n",
              "      <td>61.380</td>\n",
              "      <td>1.8000</td>\n",
              "      <td>0.029326</td>\n",
              "    </tr>\n",
              "  </tbody>\n",
              "</table>\n",
              "<p>51290 rows × 5 columns</p>\n",
              "</div>"
            ],
            "text/plain": [
              "           Region  Market     Sales    Profit  Profit Ratio\n",
              "0            East      US  2309.650  762.1845      0.330000\n",
              "1         Oceania    APAC  3709.395 -288.7650     -0.077847\n",
              "2         Oceania    APAC  5175.171  919.9710      0.177766\n",
              "3         Central      EU  2892.510  -96.5400     -0.033376\n",
              "4          Africa  Africa  2832.960  311.5200      0.109963\n",
              "...           ...     ...       ...       ...           ...\n",
              "51285  North Asia    APAC    65.100    4.5000      0.069124\n",
              "51286     Central      US     0.444   -1.1100     -2.500000\n",
              "51287        West      US    22.920   11.2308      0.490000\n",
              "51288       South   LATAM    13.440    2.4000      0.178571\n",
              "51289     Central   LATAM    61.380    1.8000      0.029326\n",
              "\n",
              "[51290 rows x 5 columns]"
            ]
          },
          "metadata": {
            "tags": []
          },
          "execution_count": 61
        }
      ]
    },
    {
      "cell_type": "code",
      "metadata": {
        "colab": {
          "base_uri": "https://localhost:8080/",
          "height": 535
        },
        "id": "IAqsdA2xvQn8",
        "outputId": "24948233-c727-455d-9ac9-125e7800d77e"
      },
      "source": [
        "plt.subplots(figsize=(12, 8))\n",
        "sns.barplot(x='Market', y='Profit Ratio', data=df_superstore)\n",
        "\n",
        "plt.title('Most Profit Rate Based on Market Area', fontsize=16)\n",
        "plt.xlabel('Market Area', fontsize=12)\n",
        "plt.ylabel('Profit Rate', fontsize=12)"
      ],
      "execution_count": null,
      "outputs": [
        {
          "output_type": "execute_result",
          "data": {
            "text/plain": [
              "Text(0, 0.5, 'Profit Rate')"
            ]
          },
          "metadata": {
            "tags": []
          },
          "execution_count": 137
        },
        {
          "output_type": "display_data",
          "data": {
            "image/png": "[encoded data removed]",
            "text/plain": [
              "<Figure size 864x576 with 1 Axes>"
            ]
          },
          "metadata": {
            "tags": [],
            "needs_background": "light"
          }
        }
      ]
    },
    {
      "cell_type": "code",
      "metadata": {
        "colab": {
          "base_uri": "https://localhost:8080/",
          "height": 535
        },
        "id": "hUB34_8zv7xu",
        "outputId": "437e6bff-c702-4be1-f244-3a3f445f9bb3"
      },
      "source": [
        "plt.subplots(figsize=(16, 8))\n",
        "sns.barplot(x='Region', y='Profit Ratio', data=df_superstore)\n",
        "\n",
        "plt.title('Most Profit Rate Based on Region', fontsize=16)\n",
        "plt.xlabel('Region', fontsize=12)\n",
        "plt.ylabel('Profit Rate', fontsize=12)"
      ],
      "execution_count": null,
      "outputs": [
        {
          "output_type": "execute_result",
          "data": {
            "text/plain": [
              "Text(0, 0.5, 'Profit Rate')"
            ]
          },
          "metadata": {
            "tags": []
          },
          "execution_count": 139
        },
        {
          "output_type": "display_data",
          "data": {
            "image/png": "[encoded data removed]",
            "text/plain": [
              "<Figure size 1152x576 with 1 Axes>"
            ]
          },
          "metadata": {
            "tags": [],
            "needs_background": "light"
          }
        }
      ]
    },
    {
      "cell_type": "markdown",
      "metadata": {
        "id": "cO9wIdMtVKVR"
      },
      "source": [
        "## The Most Profitable of Ship Mode"
      ]
    },
    {
      "cell_type": "code",
      "metadata": {
        "colab": {
          "base_uri": "https://localhost:8080/",
          "height": 414
        },
        "id": "i7LEN3ROWfbp",
        "outputId": "d992de14-4291-45dd-e594-2e616bf82efd"
      },
      "source": [
        "df_superstore[['Ship Mode', 'Sales', 'Shipping Cost', 'Profit', 'Profit Ratio']]"
      ],
      "execution_count": null,
      "outputs": [
        {
          "output_type": "execute_result",
          "data": {
            "text/html": [
              "<div>\n",
              "<style scoped>\n",
              "    .dataframe tbody tr th:only-of-type {\n",
              "        vertical-align: middle;\n",
              "    }\n",
              "\n",
              "    .dataframe tbody tr th {\n",
              "        vertical-align: top;\n",
              "    }\n",
              "\n",
              "    .dataframe thead th {\n",
              "        text-align: right;\n",
              "    }\n",
              "</style>\n",
              "<table border=\"1\" class=\"dataframe\">\n",
              "  <thead>\n",
              "    <tr style=\"text-align: right;\">\n",
              "      <th></th>\n",
              "      <th>Ship Mode</th>\n",
              "      <th>Sales</th>\n",
              "      <th>Shipping Cost</th>\n",
              "      <th>Profit</th>\n",
              "      <th>Profit Ratio</th>\n",
              "    </tr>\n",
              "  </thead>\n",
              "  <tbody>\n",
              "    <tr>\n",
              "      <th>0</th>\n",
              "      <td>Same Day</td>\n",
              "      <td>2309.650</td>\n",
              "      <td>933.570</td>\n",
              "      <td>762.1845</td>\n",
              "      <td>0.330000</td>\n",
              "    </tr>\n",
              "    <tr>\n",
              "      <th>1</th>\n",
              "      <td>Second Class</td>\n",
              "      <td>3709.395</td>\n",
              "      <td>923.630</td>\n",
              "      <td>-288.7650</td>\n",
              "      <td>-0.077847</td>\n",
              "    </tr>\n",
              "    <tr>\n",
              "      <th>2</th>\n",
              "      <td>First Class</td>\n",
              "      <td>5175.171</td>\n",
              "      <td>915.490</td>\n",
              "      <td>919.9710</td>\n",
              "      <td>0.177766</td>\n",
              "    </tr>\n",
              "    <tr>\n",
              "      <th>3</th>\n",
              "      <td>First Class</td>\n",
              "      <td>2892.510</td>\n",
              "      <td>910.160</td>\n",
              "      <td>-96.5400</td>\n",
              "      <td>-0.033376</td>\n",
              "    </tr>\n",
              "    <tr>\n",
              "      <th>4</th>\n",
              "      <td>Same Day</td>\n",
              "      <td>2832.960</td>\n",
              "      <td>903.040</td>\n",
              "      <td>311.5200</td>\n",
              "      <td>0.109963</td>\n",
              "    </tr>\n",
              "    <tr>\n",
              "      <th>...</th>\n",
              "      <td>...</td>\n",
              "      <td>...</td>\n",
              "      <td>...</td>\n",
              "      <td>...</td>\n",
              "      <td>...</td>\n",
              "    </tr>\n",
              "    <tr>\n",
              "      <th>51285</th>\n",
              "      <td>Same Day</td>\n",
              "      <td>65.100</td>\n",
              "      <td>0.010</td>\n",
              "      <td>4.5000</td>\n",
              "      <td>0.069124</td>\n",
              "    </tr>\n",
              "    <tr>\n",
              "      <th>51286</th>\n",
              "      <td>Standard Class</td>\n",
              "      <td>0.444</td>\n",
              "      <td>0.010</td>\n",
              "      <td>-1.1100</td>\n",
              "      <td>-2.500000</td>\n",
              "    </tr>\n",
              "    <tr>\n",
              "      <th>51287</th>\n",
              "      <td>Same Day</td>\n",
              "      <td>22.920</td>\n",
              "      <td>0.010</td>\n",
              "      <td>11.2308</td>\n",
              "      <td>0.490000</td>\n",
              "    </tr>\n",
              "    <tr>\n",
              "      <th>51288</th>\n",
              "      <td>Standard Class</td>\n",
              "      <td>13.440</td>\n",
              "      <td>0.003</td>\n",
              "      <td>2.4000</td>\n",
              "      <td>0.178571</td>\n",
              "    </tr>\n",
              "    <tr>\n",
              "      <th>51289</th>\n",
              "      <td>Second Class</td>\n",
              "      <td>61.380</td>\n",
              "      <td>0.002</td>\n",
              "      <td>1.8000</td>\n",
              "      <td>0.029326</td>\n",
              "    </tr>\n",
              "  </tbody>\n",
              "</table>\n",
              "<p>51290 rows × 5 columns</p>\n",
              "</div>"
            ],
            "text/plain": [
              "            Ship Mode     Sales  Shipping Cost    Profit  Profit Ratio\n",
              "0            Same Day  2309.650        933.570  762.1845      0.330000\n",
              "1        Second Class  3709.395        923.630 -288.7650     -0.077847\n",
              "2         First Class  5175.171        915.490  919.9710      0.177766\n",
              "3         First Class  2892.510        910.160  -96.5400     -0.033376\n",
              "4            Same Day  2832.960        903.040  311.5200      0.109963\n",
              "...               ...       ...            ...       ...           ...\n",
              "51285        Same Day    65.100          0.010    4.5000      0.069124\n",
              "51286  Standard Class     0.444          0.010   -1.1100     -2.500000\n",
              "51287        Same Day    22.920          0.010   11.2308      0.490000\n",
              "51288  Standard Class    13.440          0.003    2.4000      0.178571\n",
              "51289    Second Class    61.380          0.002    1.8000      0.029326\n",
              "\n",
              "[51290 rows x 5 columns]"
            ]
          },
          "metadata": {
            "tags": []
          },
          "execution_count": 64
        }
      ]
    },
    {
      "cell_type": "code",
      "metadata": {
        "colab": {
          "base_uri": "https://localhost:8080/",
          "height": 535
        },
        "id": "O2xn45g2uvSb",
        "outputId": "9f915f1d-3cd4-4308-9713-7f76722ad9b8"
      },
      "source": [
        "plt.subplots(figsize=(10, 8))\n",
        "sns.barplot(x='Ship Mode', y='Quantity', data=df_superstore)\n",
        "\n",
        "plt.title('Most Shipping Mode Sales Order', fontsize=16)\n",
        "plt.xlabel('Ship Mode', fontsize=12)\n",
        "plt.ylabel('Quantity', fontsize=12)"
      ],
      "execution_count": null,
      "outputs": [
        {
          "output_type": "execute_result",
          "data": {
            "text/plain": [
              "Text(0, 0.5, 'Quantity')"
            ]
          },
          "metadata": {
            "tags": []
          },
          "execution_count": 140
        },
        {
          "output_type": "display_data",
          "data": {
            "image/png": "[encoded data removed]",
            "text/plain": [
              "<Figure size 720x576 with 1 Axes>"
            ]
          },
          "metadata": {
            "tags": [],
            "needs_background": "light"
          }
        }
      ]
    },
    {
      "cell_type": "code",
      "metadata": {
        "colab": {
          "base_uri": "https://localhost:8080/",
          "height": 535
        },
        "id": "wvUYzBpUty1M",
        "outputId": "ebb25008-21c0-4245-c27d-16d2428109c1"
      },
      "source": [
        "plt.subplots(figsize=(10, 8))\n",
        "sns.barplot(x='Ship Mode', y='Profit Ratio', data=df_superstore)\n",
        "\n",
        "plt.title('Shipping Mode with the Most Profit Rate', fontsize=16)\n",
        "plt.xlabel('Ship Mode', fontsize=12)\n",
        "plt.ylabel('Profit Ratio', fontsize=12)"
      ],
      "execution_count": null,
      "outputs": [
        {
          "output_type": "execute_result",
          "data": {
            "text/plain": [
              "Text(0, 0.5, 'Profit Ratio')"
            ]
          },
          "metadata": {
            "tags": []
          },
          "execution_count": 141
        },
        {
          "output_type": "display_data",
          "data": {
            "image/png": "[encoded data removed]",
            "text/plain": [
              "<Figure size 720x576 with 1 Axes>"
            ]
          },
          "metadata": {
            "tags": [],
            "needs_background": "light"
          }
        }
      ]
    },
    {
      "cell_type": "code",
      "metadata": {
        "colab": {
          "base_uri": "https://localhost:8080/",
          "height": 535
        },
        "id": "cOxk9v2kuG7r",
        "outputId": "0e56fc89-ff2e-4d90-db65-1b649f4d80c8"
      },
      "source": [
        "plt.subplots(figsize=(10, 8))\n",
        "sns.barplot(x='Ship Mode', y='Shipping Cost', data=df_superstore)\n",
        "\n",
        "plt.title('Shipping Mode with Expensive Shipping Cost', fontsize=16)\n",
        "plt.xlabel('Ship Mode', fontsize=12)\n",
        "plt.ylabel('Shipping Cost', fontsize=12)"
      ],
      "execution_count": null,
      "outputs": [
        {
          "output_type": "execute_result",
          "data": {
            "text/plain": [
              "Text(0, 0.5, 'Shipping Cost')"
            ]
          },
          "metadata": {
            "tags": []
          },
          "execution_count": 142
        },
        {
          "output_type": "display_data",
          "data": {
            "image/png": "[encoded data removed]",
            "text/plain": [
              "<Figure size 720x576 with 1 Axes>"
            ]
          },
          "metadata": {
            "tags": [],
            "needs_background": "light"
          }
        }
      ]
    },
    {
      "cell_type": "markdown",
      "metadata": {
        "id": "NhlN-zrPWaHi"
      },
      "source": [
        "## Effect of Discount on Profit"
      ]
    },
    {
      "cell_type": "code",
      "metadata": {
        "colab": {
          "base_uri": "https://localhost:8080/",
          "height": 414
        },
        "id": "GLx6yocEWjmr",
        "outputId": "e0b3e70d-b67f-47e3-a373-ac2c4860384d"
      },
      "source": [
        "df_superstore[['Sales', 'Discount', 'Profit', 'Profit Ratio']]"
      ],
      "execution_count": null,
      "outputs": [
        {
          "output_type": "execute_result",
          "data": {
            "text/html": [
              "<div>\n",
              "<style scoped>\n",
              "    .dataframe tbody tr th:only-of-type {\n",
              "        vertical-align: middle;\n",
              "    }\n",
              "\n",
              "    .dataframe tbody tr th {\n",
              "        vertical-align: top;\n",
              "    }\n",
              "\n",
              "    .dataframe thead th {\n",
              "        text-align: right;\n",
              "    }\n",
              "</style>\n",
              "<table border=\"1\" class=\"dataframe\">\n",
              "  <thead>\n",
              "    <tr style=\"text-align: right;\">\n",
              "      <th></th>\n",
              "      <th>Sales</th>\n",
              "      <th>Discount</th>\n",
              "      <th>Profit</th>\n",
              "      <th>Profit Ratio</th>\n",
              "    </tr>\n",
              "  </thead>\n",
              "  <tbody>\n",
              "    <tr>\n",
              "      <th>0</th>\n",
              "      <td>2309.650</td>\n",
              "      <td>0.0</td>\n",
              "      <td>762.1845</td>\n",
              "      <td>0.330000</td>\n",
              "    </tr>\n",
              "    <tr>\n",
              "      <th>1</th>\n",
              "      <td>3709.395</td>\n",
              "      <td>0.1</td>\n",
              "      <td>-288.7650</td>\n",
              "      <td>-0.077847</td>\n",
              "    </tr>\n",
              "    <tr>\n",
              "      <th>2</th>\n",
              "      <td>5175.171</td>\n",
              "      <td>0.1</td>\n",
              "      <td>919.9710</td>\n",
              "      <td>0.177766</td>\n",
              "    </tr>\n",
              "    <tr>\n",
              "      <th>3</th>\n",
              "      <td>2892.510</td>\n",
              "      <td>0.1</td>\n",
              "      <td>-96.5400</td>\n",
              "      <td>-0.033376</td>\n",
              "    </tr>\n",
              "    <tr>\n",
              "      <th>4</th>\n",
              "      <td>2832.960</td>\n",
              "      <td>0.0</td>\n",
              "      <td>311.5200</td>\n",
              "      <td>0.109963</td>\n",
              "    </tr>\n",
              "    <tr>\n",
              "      <th>...</th>\n",
              "      <td>...</td>\n",
              "      <td>...</td>\n",
              "      <td>...</td>\n",
              "      <td>...</td>\n",
              "    </tr>\n",
              "    <tr>\n",
              "      <th>51285</th>\n",
              "      <td>65.100</td>\n",
              "      <td>0.0</td>\n",
              "      <td>4.5000</td>\n",
              "      <td>0.069124</td>\n",
              "    </tr>\n",
              "    <tr>\n",
              "      <th>51286</th>\n",
              "      <td>0.444</td>\n",
              "      <td>0.8</td>\n",
              "      <td>-1.1100</td>\n",
              "      <td>-2.500000</td>\n",
              "    </tr>\n",
              "    <tr>\n",
              "      <th>51287</th>\n",
              "      <td>22.920</td>\n",
              "      <td>0.0</td>\n",
              "      <td>11.2308</td>\n",
              "      <td>0.490000</td>\n",
              "    </tr>\n",
              "    <tr>\n",
              "      <th>51288</th>\n",
              "      <td>13.440</td>\n",
              "      <td>0.0</td>\n",
              "      <td>2.4000</td>\n",
              "      <td>0.178571</td>\n",
              "    </tr>\n",
              "    <tr>\n",
              "      <th>51289</th>\n",
              "      <td>61.380</td>\n",
              "      <td>0.0</td>\n",
              "      <td>1.8000</td>\n",
              "      <td>0.029326</td>\n",
              "    </tr>\n",
              "  </tbody>\n",
              "</table>\n",
              "<p>51290 rows × 4 columns</p>\n",
              "</div>"
            ],
            "text/plain": [
              "          Sales  Discount    Profit  Profit Ratio\n",
              "0      2309.650       0.0  762.1845      0.330000\n",
              "1      3709.395       0.1 -288.7650     -0.077847\n",
              "2      5175.171       0.1  919.9710      0.177766\n",
              "3      2892.510       0.1  -96.5400     -0.033376\n",
              "4      2832.960       0.0  311.5200      0.109963\n",
              "...         ...       ...       ...           ...\n",
              "51285    65.100       0.0    4.5000      0.069124\n",
              "51286     0.444       0.8   -1.1100     -2.500000\n",
              "51287    22.920       0.0   11.2308      0.490000\n",
              "51288    13.440       0.0    2.4000      0.178571\n",
              "51289    61.380       0.0    1.8000      0.029326\n",
              "\n",
              "[51290 rows x 4 columns]"
            ]
          },
          "metadata": {
            "tags": []
          },
          "execution_count": 65
        }
      ]
    },
    {
      "cell_type": "markdown",
      "metadata": {
        "id": "a9y55pD6mjit"
      },
      "source": [
        "Correlation of Financial Features "
      ]
    },
    {
      "cell_type": "code",
      "metadata": {
        "colab": {
          "base_uri": "https://localhost:8080/",
          "height": 518
        },
        "id": "U8SuKtFDlfTa",
        "outputId": "79588b5c-d97e-41ae-f0f1-8cf3fe0c11ad"
      },
      "source": [
        "financial_metrics = df_superstore[['Sales', 'Discount', 'Shipping Cost', 'Profit', 'Profit Ratio']]\n",
        "financial_metrics\n",
        "\n",
        "# correlation based on numeric variabel only\n",
        "fig, ax = plt.subplots(figsize=(8,8))\n",
        "sns.heatmap(financial_metrics.corr(), fmt= '.2f', cmap='Blues', annot=True, annot_kws={\"size\":14})\n",
        "\n",
        "plt.title('Correlation of Financial Features', fontsize=16)"
      ],
      "execution_count": null,
      "outputs": [
        {
          "output_type": "execute_result",
          "data": {
            "text/plain": [
              "Text(0.5, 1.0, 'Correlation of Financial Features')"
            ]
          },
          "metadata": {
            "tags": []
          },
          "execution_count": 125
        },
        {
          "output_type": "display_data",
          "data": {
            "image/png": "[encoded data removed]",
            "text/plain": [
              "<Figure size 576x576 with 2 Axes>"
            ]
          },
          "metadata": {
            "tags": [],
            "needs_background": "light"
          }
        }
      ]
    },
    {
      "cell_type": "markdown",
      "metadata": {
        "id": "Z-qtR2ZHkD3C"
      },
      "source": [
        "Health of Margin based on Discount"
      ]
    },
    {
      "cell_type": "code",
      "metadata": {
        "colab": {
          "base_uri": "https://localhost:8080/",
          "height": 591
        },
        "id": "6m6p81jOkeYL",
        "outputId": "66b54b46-cc7d-4698-87b7-3a8019b9f06b"
      },
      "source": [
        "plt.subplots(figsize=(10, 8))\n",
        "sns.lineplot(df_superstore['Discount'], df_superstore['Profit Ratio'])\n",
        "\n",
        "plt.title('Discount Effect on Profit Margin', fontsize=16)\n",
        "plt.xlabel('Discount', fontsize=12)\n",
        "plt.ylabel('Profit Rate', fontsize=12)"
      ],
      "execution_count": null,
      "outputs": [
        {
          "output_type": "stream",
          "text": [
            "/usr/local/lib/python3.7/dist-packages/seaborn/_decorators.py:43: FutureWarning: Pass the following variables as keyword args: x, y. From version 0.12, the only valid positional argument will be `data`, and passing other arguments without an explicit keyword will result in an error or misinterpretation.\n",
            "  FutureWarning\n"
          ],
          "name": "stderr"
        },
        {
          "output_type": "execute_result",
          "data": {
            "text/plain": [
              "Text(0, 0.5, 'Profit Rate')"
            ]
          },
          "metadata": {
            "tags": []
          },
          "execution_count": 143
        },
        {
          "output_type": "display_data",
          "data": {
            "image/png": "[encoded data removed]",
            "text/plain": [
              "<Figure size 720x576 with 1 Axes>"
            ]
          },
          "metadata": {
            "tags": [],
            "needs_background": "light"
          }
        }
      ]
    }
  ]
}